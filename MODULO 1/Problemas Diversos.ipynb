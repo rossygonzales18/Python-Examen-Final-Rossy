{
 "cells": [
  {
   "cell_type": "markdown",
   "metadata": {},
   "source": [
    "# PROBLEMAS DIVERSOS"
   ]
  },
  {
   "cell_type": "markdown",
   "metadata": {},
   "source": [
    "<h3>1.</h3>\n",
    "Imagina que acabas de abrir una nueva cuenta de ahorros que te ofrece el 4% de interés al año. Estos ahorros debido a intereses, que no se cobran hasta finales de año, se te añaden al balance final de tu cuenta de ahorros. Escribir un programa que comience leyendo la cantidad de dinero depositada en la cuenta de ahorros, introducida por el usuario. Después el programa debe calcular y mostrar por pantalla la cantidad de ahorros tras el primer, segundo y tercer años. Redondear cada cantidad a dos decimales."
   ]
  },
  {
   "cell_type": "code",
   "execution_count": null,
   "metadata": {},
   "outputs": [],
   "source": [
    "cantidad = float(input('Ingrese la cantidad de dinero depositado: '))\n",
    "interes=0.04\n",
    "año1=round(cantidad*(1+interes),2)\n",
    "año2=round(año1*(1+interes),2)\n",
    "año3=round(año2*(1+interes),2)\n",
    "print('Ahorro del primer año es: {}'.format(año1))\n",
    "print('Ahorro del segundo año es: {}'.format(año2))\n",
    "print('Ahorro del stercer año es: {}'.format(año3))"
   ]
  },
  {
   "cell_type": "markdown",
   "metadata": {},
   "source": [
    "### 2.\n",
    "Escriba un programa que pida los coeficientes de una ecuación de segundo grado <code>(a x² + b x + c = 0)</code> y escriba la solución.\n",
    "\n",
    "Se recuerda que una ecuación de segundo grado puede no tener solución, tener una solución única, tener dos soluciones o que todos los números sean solución."
   ]
  },
  {
   "cell_type": "markdown",
   "metadata": {},
   "source": [
    "<img src='https://i.pinimg.com/originals/d3/f7/01/d3f701528ad56ce0f5a98d7c91722fd7.png'>"
   ]
  },
  {
   "cell_type": "markdown",
   "metadata": {},
   "source": [
    "Su programa debe indicar:\n",
    "- En caso la ecuación cuadrática tenga solución real, su programa debe brindar la solución\n",
    "- En caso su ecuación no tenga solución real, su programa debe brindar un mensaje que diga \"Ecuación no presenta solución real\""
   ]
  },
  {
   "cell_type": "code",
   "execution_count": null,
   "metadata": {},
   "outputs": [],
   "source": [
    "a=int(input('Ingrese el primer coeficiente de la ecuacion de segundo grado'))\n",
    "b=int(input('Ingrese el sebundo coeficiente de la ecuacion de segundo grado'))\n",
    "c=int(input('Ingrese el tercer coeficiente de la ecuacion de segundo grado'))\n",
    "\n",
    "if b**2-4*a*c < 0:\n",
    "    print('No tiene solucion real')\n",
    "else:\n",
    "    if b**2-4*a*c == 0:\n",
    "        x=(-b+(b**2-4*a*c))**(1/2)/(2*a)\n",
    "        print('Tiene una doble solucion: {} '.forma(x))\n",
    "    else:\n",
    "        x1=(-b+(b**2-4*a*c))**(1/2)/(2*a)\n",
    "        x2=x=(-b-(b**2-4*a*c))**(1/2)/(2*a)\n",
    "        print('Tine dos soluciones diferentes: ')\n",
    "        print('Solucion 1 es: {}'.format(x1))\n",
    "        print('Solucion 2 es: {}'.format(x2))"
   ]
  }
 ],
 "metadata": {
  "kernelspec": {
   "display_name": "Python 3",
   "language": "python",
   "name": "python3"
  },
  "language_info": {
   "codemirror_mode": {
    "name": "ipython",
    "version": 3
   },
   "file_extension": ".py",
   "mimetype": "text/x-python",
   "name": "python",
   "nbconvert_exporter": "python",
   "pygments_lexer": "ipython3",
   "version": "3.8.8"
  }
 },
 "nbformat": 4,
 "nbformat_minor": 4
}
