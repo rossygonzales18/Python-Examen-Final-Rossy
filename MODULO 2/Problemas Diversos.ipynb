{
 "cells": [
  {
   "cell_type": "markdown",
   "metadata": {},
   "source": [
    "# PROBLEMAS DIVERSOS"
   ]
  },
  {
   "cell_type": "markdown",
   "metadata": {},
   "source": [
    "<h3>1.</h3>\n",
    "Realizar una función que permita la carga de n alumnos. Por cada alumno se deberá preguntar el nombre completo y permitir el ingreso de 3 notas. Las notas deben estar comprendidas entre 0 y 10. Devolver el listado de alumnos."
   ]
  },
  {
   "cell_type": "code",
   "execution_count": null,
   "metadata": {},
   "outputs": [],
   "source": [
    "n=int(input('Ingrese la cantidad de alumnos: '))\n",
    "nombres=[]\n",
    "notas=[]\n",
    "for x in range(n):\n",
    "    nom=input(\"Ingrese el nombre del alumno:\")\n",
    "    nombres.append(nom)\n",
    "    n1=int(input(\"Ingrese la primer nota:\"))\n",
    "    n2=int(input(\"Ingrese la segunda nota:\"))\n",
    "    n3=int(input(\"Ingrese la tercera nota:\"))\n",
    "    notas.append([n1,n2,n3])\n",
    "\n",
    "for x in range(n):\n",
    "    print(nombres[x],notas[x][0],notas[x][1],notas[x][2])"
   ]
  },
  {
   "cell_type": "markdown",
   "metadata": {},
   "source": [
    "### 2.\n",
    "Definir una función que dado un listado de alumnos evalúe cuántos aprobaron y cuántos desaprobaron, teniendo en cuenta que se aprueba con 4. La nota será el promedio de las 3 notas para cada alumno."
   ]
  },
  {
   "cell_type": "code",
   "execution_count": null,
   "metadata": {},
   "outputs": [],
   "source": [
    "n=int(input('Ingrese la cantidad de alumnos: '))\n",
    "nombres=[]\n",
    "notas=[]\n",
    "for x in range(n):\n",
    "    nom=input(\"Ingrese el nombre del alumno:\")\n",
    "    nombres.append(nom)\n",
    "    n1=int(input(\"Ingrese la primer nota:\"))\n",
    "    n2=int(input(\"Ingrese la segunda nota:\"))\n",
    "    n3=int(input(\"Ingrese la tercera nota:\"))\n",
    "    notas.append([n1,n2,n3])\n",
    "    prom=(n1+n2+n3)/3\n",
    "    contaA=0\n",
    "    contaD=0\n",
    "    if prom>=4:\n",
    "        contaA+=contaA\n",
    "    else:\n",
    "        contaD+=contaD\n",
    "        \n",
    "    print('Total de estudiantes aprobados: {}'.format(contaA))\n",
    "    print('Total de estudiantes desaprobados: {}'.format(contaD))"
   ]
  },
  {
   "cell_type": "markdown",
   "metadata": {},
   "source": [
    "### 3.\n",
    "Informar el promedio de nota del curso total."
   ]
  },
  {
   "cell_type": "code",
   "execution_count": null,
   "metadata": {},
   "outputs": [],
   "source": [
    "n=int(input('Ingrese la cantidad de alumnos: '))\n",
    "nombres=[]\n",
    "notas=[]\n",
    "suma=0\n",
    "for x in range(n):\n",
    "    nom=input(\"Ingrese el nombre del alumno:\")\n",
    "    nombres.append(nom)\n",
    "    n1=int(input(\"Ingrese la primer nota:\"))\n",
    "    n2=int(input(\"Ingrese la segunda nota:\"))\n",
    "    n3=int(input(\"Ingrese la tercera nota:\"))\n",
    "    notas.append([n1,n2,n3])\n",
    "    prom=(n1+n2+n3)/3\n",
    "    suma=suma+prom\n",
    "\n",
    "promT=suma/n\n",
    "print('El promedio total del salones: ')"
   ]
  },
  {
   "cell_type": "code",
   "execution_count": null,
   "metadata": {},
   "outputs": [],
   "source": []
  },
  {
   "cell_type": "markdown",
   "metadata": {},
   "source": [
    "### 4.\n",
    "Realizar una función que indique quién tuvo el promedio más alto y quién tuvo la nota promedio más baja."
   ]
  },
  {
   "cell_type": "code",
   "execution_count": null,
   "metadata": {},
   "outputs": [],
   "source": []
  },
  {
   "cell_type": "code",
   "execution_count": null,
   "metadata": {},
   "outputs": [],
   "source": []
  },
  {
   "cell_type": "code",
   "execution_count": null,
   "metadata": {},
   "outputs": [],
   "source": []
  },
  {
   "cell_type": "markdown",
   "metadata": {},
   "source": [
    "### 5.\n",
    "Realizar una función que permita buscar un alumno por nombre, siendo el nombre completo o parcial, y devuelva una lista con los n alumnos que concuerden con ese nombre junto con todos sus datos, incluido el promedio de sus notas."
   ]
  },
  {
   "cell_type": "code",
   "execution_count": null,
   "metadata": {},
   "outputs": [],
   "source": []
  }
 ],
 "metadata": {
  "kernelspec": {
   "display_name": "Python 3",
   "language": "python",
   "name": "python3"
  },
  "language_info": {
   "codemirror_mode": {
    "name": "ipython",
    "version": 3
   },
   "file_extension": ".py",
   "mimetype": "text/x-python",
   "name": "python",
   "nbconvert_exporter": "python",
   "pygments_lexer": "ipython3",
   "version": "3.8.8"
  }
 },
 "nbformat": 4,
 "nbformat_minor": 4
}
